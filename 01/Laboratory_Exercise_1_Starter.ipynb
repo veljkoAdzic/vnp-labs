{
  "cells": [
    {
      "cell_type": "markdown",
      "id": "9c6b96ea-4e53-4fda-8b20-d071f0b97099",
      "metadata": {
        "deletable": false,
        "editable": false,
        "nbgrader": {
          "cell_type": "markdown",
          "checksum": "8f9dc704ef45c17e92bc7e3fd73d1c40",
          "grade": false,
          "grade_id": "cell-39b682f53ce7982b",
          "locked": true,
          "schema_version": 3,
          "solution": false,
          "task": false
        },
        "id": "9c6b96ea-4e53-4fda-8b20-d071f0b97099"
      },
      "source": [
        "# Laboratory Exercise 1 - Starter (2 points)"
      ]
    },
    {
      "cell_type": "markdown",
      "id": "e775f285-e081-49d6-8fdf-930fc4b46c92",
      "metadata": {
        "deletable": false,
        "editable": false,
        "nbgrader": {
          "cell_type": "markdown",
          "checksum": "5a31785963ef33f61c04d54d0dc569be",
          "grade": false,
          "grade_id": "cell-e1839ccdba54c0a5",
          "locked": true,
          "schema_version": 3,
          "solution": false,
          "task": false
        },
        "id": "e775f285-e081-49d6-8fdf-930fc4b46c92"
      },
      "source": [
        "In this assignment, you will perform **web scraping** on the website [https://books.toscrape.com/](https://books.toscrape.com/).\n",
        "\n",
        "Your tasks are as follows:\n",
        "\n",
        "1. **Extract** `image_url`, `rating`, `title`, and `price` for the 20 books displayed on the main page.\n",
        "2. **Organize the data** into a **pandas.DataFrame**.\n",
        "3. **Visualize** the collected data according to the given requirements.\n",
        "\n",
        "**Notes:**\n",
        "\n",
        "- Some parts of the code are already provided. **Do not modify the existing code.**\n",
        "- **Do not hard-code** any values or test data. There are hidden tests that will check your implementation.\n",
        "- Write your solution only in the sections marked with `### YOUR SOLUTION`.\n",
        "- Each task description indicates whether it is **automatically** or **manually graded**.\n",
        "- You can verify automatically graded tasks using the cell labeled `### TEST` after each function.\n",
        "\n",
        "***IMPORTANT NOTE:***\n",
        "- Name your Jupyter Notebook as `lab_ex_1_{index}.ipynb`.\n",
        "- For example, if your index is 123456, you should name your notebook as `lab_ex_1_12346.ipynb`."
      ]
    },
    {
      "cell_type": "code",
      "execution_count": 1,
      "id": "472e2839-bdba-4df7-b369-255adde1cb67",
      "metadata": {
        "deletable": false,
        "editable": false,
        "nbgrader": {
          "cell_type": "code",
          "checksum": "2774243907e5d5f74cf4a71718ca13f9",
          "grade": false,
          "grade_id": "cell-a6e354e12b1d3ced",
          "locked": true,
          "schema_version": 3,
          "solution": false,
          "task": false
        },
        "id": "472e2839-bdba-4df7-b369-255adde1cb67"
      },
      "outputs": [],
      "source": [
        "import requests\n",
        "import pandas as pd\n",
        "import matplotlib.pyplot as plt\n",
        "import seaborn as sns\n",
        "from bs4 import BeautifulSoup"
      ]
    },
    {
      "cell_type": "code",
      "execution_count": 2,
      "id": "b9081606-9c70-4636-a452-79fbedfa2871",
      "metadata": {
        "deletable": false,
        "editable": false,
        "nbgrader": {
          "cell_type": "code",
          "checksum": "0cb2205ce2e3566e8a3df2347fb460d0",
          "grade": false,
          "grade_id": "cell-60cf9908f02b9da7",
          "locked": true,
          "schema_version": 3,
          "solution": false,
          "task": false
        },
        "id": "b9081606-9c70-4636-a452-79fbedfa2871"
      },
      "outputs": [],
      "source": [
        "url = \"https://books.toscrape.com/\""
      ]
    },
    {
      "cell_type": "code",
      "execution_count": 3,
      "id": "eed9a568-a86d-4647-9f57-982561788afd",
      "metadata": {
        "deletable": false,
        "editable": false,
        "nbgrader": {
          "cell_type": "code",
          "checksum": "e7c75958ddb997c7171d0f59e01f4bea",
          "grade": false,
          "grade_id": "cell-bd475bd03ecf42b5",
          "locked": true,
          "schema_version": 3,
          "solution": false,
          "task": false
        },
        "id": "eed9a568-a86d-4647-9f57-982561788afd"
      },
      "outputs": [],
      "source": [
        "response = requests.get(url)"
      ]
    },
    {
      "cell_type": "code",
      "execution_count": 4,
      "id": "b4fad9a8-f0de-4788-b3b6-67a03e63df4b",
      "metadata": {
        "deletable": false,
        "editable": false,
        "nbgrader": {
          "cell_type": "code",
          "checksum": "1d05b9d2fa7d7051a6da0af824a5ce0c",
          "grade": false,
          "grade_id": "cell-4617c6773ed95207",
          "locked": true,
          "schema_version": 3,
          "solution": false,
          "task": false
        },
        "id": "b4fad9a8-f0de-4788-b3b6-67a03e63df4b"
      },
      "outputs": [],
      "source": [
        "page_element = BeautifulSoup(response.text, \"html.parser\")"
      ]
    },
    {
      "cell_type": "code",
      "execution_count": 5,
      "id": "3802d414-dfca-4d2b-aa4d-9124e16cf565",
      "metadata": {
        "deletable": false,
        "editable": false,
        "nbgrader": {
          "cell_type": "code",
          "checksum": "c56eef47b6070e47a75e461a0cc996ce",
          "grade": false,
          "grade_id": "cell-bb81a0adaf43b06a",
          "locked": true,
          "schema_version": 3,
          "solution": false,
          "task": false
        },
        "id": "3802d414-dfca-4d2b-aa4d-9124e16cf565"
      },
      "outputs": [],
      "source": [
        "product_elements = page_element.select(\"article.product_pod\")"
      ]
    },
    {
      "cell_type": "markdown",
      "id": "11c2039c-d276-4eb1-a0ed-8d3b189e8443",
      "metadata": {
        "deletable": false,
        "editable": false,
        "nbgrader": {
          "cell_type": "markdown",
          "checksum": "cf0f4483c9fbc572005badfee372676e",
          "grade": false,
          "grade_id": "cell-42c1156c78173608",
          "locked": true,
          "schema_version": 3,
          "solution": false,
          "task": false
        },
        "id": "11c2039c-d276-4eb1-a0ed-8d3b189e8443"
      },
      "source": [
        "**(0.2 points)** Implement the `get_image_url` function to return the image URL of a given product element using **BeautifulSoup**. For example, the first product on the page has the image URL `\"media/cache/2c/da/2cdad67c44b002e7ead0cc35693c0e8b.jpg\"`."
      ]
    },
    {
      "cell_type": "code",
      "execution_count": 6,
      "id": "7a0c9d1d-6ec7-4eeb-b4c6-2278812dee4f",
      "metadata": {
        "deletable": false,
        "nbgrader": {
          "cell_type": "code",
          "checksum": "7d49d4c8c16b45d97fb9cc834cac26da",
          "grade": false,
          "grade_id": "cell-2916ab1737f17d0b",
          "locked": false,
          "schema_version": 3,
          "solution": true,
          "task": false
        },
        "id": "7a0c9d1d-6ec7-4eeb-b4c6-2278812dee4f"
      },
      "outputs": [],
      "source": [
        "### AUTOMATICALLY GRADED TASK\n",
        "def get_image_url(product_element):\n",
        "    \"Get the URL of the image from the given product element using BeautifulSoup.\"\n",
        "\n",
        "    img_el = product_element.select_one(\".image_container img\")\n",
        "\n",
        "    return img_el[\"src\"]"
      ]
    },
    {
      "cell_type": "markdown",
      "id": "3d43fd43-ae2b-436f-a6b6-120d4a62c6a4",
      "metadata": {
        "deletable": false,
        "editable": false,
        "nbgrader": {
          "cell_type": "markdown",
          "checksum": "37d829945fab4e570f94e463e7e5cc58",
          "grade": false,
          "grade_id": "cell-3830e36fea4e7897",
          "locked": true,
          "schema_version": 3,
          "solution": false,
          "task": false
        },
        "id": "3d43fd43-ae2b-436f-a6b6-120d4a62c6a4"
      },
      "source": [
        "Test your implementation by running the following cell."
      ]
    },
    {
      "cell_type": "code",
      "execution_count": 7,
      "id": "c4b93534-ad17-4f1a-93e3-2206ac6f0aaa",
      "metadata": {
        "deletable": false,
        "editable": false,
        "nbgrader": {
          "cell_type": "code",
          "checksum": "75005d086696a15f9ba11676d4ebf40e",
          "grade": true,
          "grade_id": "cell-30a6648b0f0ec9ee",
          "locked": true,
          "points": 0.2,
          "schema_version": 3,
          "solution": false,
          "task": false
        },
        "id": "c4b93534-ad17-4f1a-93e3-2206ac6f0aaa"
      },
      "outputs": [],
      "source": [
        "### TEST\n",
        "assert get_image_url(product_elements[0]) == \"media/cache/2c/da/2cdad67c44b002e7ead0cc35693c0e8b.jpg\""
      ]
    },
    {
      "cell_type": "markdown",
      "id": "42dd4a6b-7792-49f5-90c6-840ead97b245",
      "metadata": {
        "deletable": false,
        "editable": false,
        "nbgrader": {
          "cell_type": "markdown",
          "checksum": "f02c7457e797766673eedbaf7e5f452c",
          "grade": false,
          "grade_id": "cell-8cc307dadd66ef7e",
          "locked": true,
          "schema_version": 3,
          "solution": false,
          "task": false
        },
        "id": "42dd4a6b-7792-49f5-90c6-840ead97b245"
      },
      "source": [
        "**(0.2 points)** Implement the `get_rating` function to return the product’s rating as an integer between 1 and 5. For example, the first product on the page has a rating of `3`."
      ]
    },
    {
      "cell_type": "code",
      "execution_count": 8,
      "id": "96d3753f-b84c-4e9c-ab60-5dd16a5c15a4",
      "metadata": {
        "deletable": false,
        "nbgrader": {
          "cell_type": "code",
          "checksum": "fb0f91bd1c9f1fea394761c810c118da",
          "grade": false,
          "grade_id": "cell-1263d0f20bfd0ed0",
          "locked": false,
          "schema_version": 3,
          "solution": true,
          "task": false
        },
        "id": "96d3753f-b84c-4e9c-ab60-5dd16a5c15a4"
      },
      "outputs": [],
      "source": [
        "### AUTOMATICALLY GRADED TASK\n",
        "def get_rating(product_element):\n",
        "    \"Get the rating (1-5) of the given product element.\"\n",
        "\n",
        "    RATINGS = { \"One\": 1, \"Two\": 2, \"Three\": 3, \"Four\": 4, \"Five\": 5 }\n",
        "\n",
        "    for cls, num in RATINGS.items():\n",
        "        if product_element.select_one(\".\" + cls) != None:\n",
        "            return num\n",
        "\n",
        "    return 0 # Default"
      ]
    },
    {
      "cell_type": "markdown",
      "id": "4da01887-f4e0-4935-b6a9-7282ffcad573",
      "metadata": {
        "deletable": false,
        "editable": false,
        "nbgrader": {
          "cell_type": "markdown",
          "checksum": "8408a2a84269d913342dfe104cc5c3c3",
          "grade": false,
          "grade_id": "cell-9161ab5f38729c22",
          "locked": true,
          "schema_version": 3,
          "solution": false,
          "task": false
        },
        "id": "4da01887-f4e0-4935-b6a9-7282ffcad573"
      },
      "source": [
        "Test your implementation by running the following cell."
      ]
    },
    {
      "cell_type": "code",
      "execution_count": 9,
      "id": "a2c34fdc-32d4-410f-8172-5921f8354a81",
      "metadata": {
        "deletable": false,
        "editable": false,
        "nbgrader": {
          "cell_type": "code",
          "checksum": "b424db8c3773cdc9c70cb12d92654563",
          "grade": true,
          "grade_id": "cell-9b6c7f9737451042",
          "locked": true,
          "points": 0.2,
          "schema_version": 3,
          "solution": false,
          "task": false
        },
        "id": "a2c34fdc-32d4-410f-8172-5921f8354a81"
      },
      "outputs": [],
      "source": [
        "### TEST\n",
        "assert get_rating(product_elements[0]) == 3"
      ]
    },
    {
      "cell_type": "markdown",
      "id": "55ce0be2-93fb-41ba-843e-6b4740f7b28c",
      "metadata": {
        "deletable": false,
        "editable": false,
        "nbgrader": {
          "cell_type": "markdown",
          "checksum": "ebc5aa95869c3aade194b17a69e2e81a",
          "grade": false,
          "grade_id": "cell-9acab3b534aa158e",
          "locked": true,
          "schema_version": 3,
          "solution": false,
          "task": false
        },
        "id": "55ce0be2-93fb-41ba-843e-6b4740f7b28c"
      },
      "source": [
        "**(0.2 points)** Implement the `get_title` function to return the full title of the given product as a string. For example, the first product on the page has the title `\"A Light in the Attic\"`."
      ]
    },
    {
      "cell_type": "code",
      "execution_count": 10,
      "id": "a01b6720-2d9c-459e-911e-9a3887bbcbf1",
      "metadata": {
        "deletable": false,
        "nbgrader": {
          "cell_type": "code",
          "checksum": "ed9fe1920cf3842a1af40dcc410143bf",
          "grade": false,
          "grade_id": "cell-bfed43972258ef45",
          "locked": false,
          "schema_version": 3,
          "solution": true,
          "task": false
        },
        "id": "a01b6720-2d9c-459e-911e-9a3887bbcbf1"
      },
      "outputs": [],
      "source": [
        "### AUTOMATICALLY GRADED TASK\n",
        "def get_title(product_element):\n",
        "    \"Get the full-length title of the given product element.\"\n",
        "\n",
        "    return product_element.select_one(\"h3 a\")[\"title\"]\n"
      ]
    },
    {
      "cell_type": "markdown",
      "id": "c783ffe6-bd82-4ee6-8e27-1364f8aeca5e",
      "metadata": {
        "deletable": false,
        "editable": false,
        "nbgrader": {
          "cell_type": "markdown",
          "checksum": "dd190e9566015e504acf354de14188c9",
          "grade": false,
          "grade_id": "cell-8e8e616bbc311909",
          "locked": true,
          "schema_version": 3,
          "solution": false,
          "task": false
        },
        "id": "c783ffe6-bd82-4ee6-8e27-1364f8aeca5e"
      },
      "source": [
        "Test your implementation by running the following cell."
      ]
    },
    {
      "cell_type": "code",
      "execution_count": 11,
      "id": "e2b7dc77-0be2-4ad4-9f4c-4f32694d1cd7",
      "metadata": {
        "deletable": false,
        "editable": false,
        "nbgrader": {
          "cell_type": "code",
          "checksum": "2c26021bb7785ae35b9672f0ba94d875",
          "grade": true,
          "grade_id": "cell-cee445e198fed068",
          "locked": true,
          "points": 0.2,
          "schema_version": 3,
          "solution": false,
          "task": false
        },
        "id": "e2b7dc77-0be2-4ad4-9f4c-4f32694d1cd7"
      },
      "outputs": [],
      "source": [
        "### TEST\n",
        "assert get_title(product_elements[0]) == \"A Light in the Attic\""
      ]
    },
    {
      "cell_type": "markdown",
      "id": "57e8c6aa-fb3c-4dab-b129-8886d0311065",
      "metadata": {
        "deletable": false,
        "editable": false,
        "nbgrader": {
          "cell_type": "markdown",
          "checksum": "0804f9d2cb9c4d0ab9c8e9c7a37547f7",
          "grade": false,
          "grade_id": "cell-e33aa4fb715e2e82",
          "locked": true,
          "schema_version": 3,
          "solution": false,
          "task": false
        },
        "id": "57e8c6aa-fb3c-4dab-b129-8886d0311065"
      },
      "source": [
        "**(0.2 points)** Implement the `get_price` function to return the product’s price as a float. For example, the first product on the page has a price of `51.77`."
      ]
    },
    {
      "cell_type": "code",
      "execution_count": 12,
      "id": "dd334f7d-a36a-4938-8ee4-fb065d04d562",
      "metadata": {
        "deletable": false,
        "nbgrader": {
          "cell_type": "code",
          "checksum": "5b9bb09ab4184b4f81a346263b781d6e",
          "grade": false,
          "grade_id": "cell-d4da8aaa77639d69",
          "locked": false,
          "schema_version": 3,
          "solution": true,
          "task": false
        },
        "id": "dd334f7d-a36a-4938-8ee4-fb065d04d562"
      },
      "outputs": [],
      "source": [
        "def get_price(product_element):\n",
        "    \"Get the price of the given product element.\"\n",
        "\n",
        "    txt = product_element.select_one(\".price_color\").text\n",
        "    txt = txt[txt.find(\"£\")+1:]\n",
        "    return float(txt)\n",
        "\n"
      ]
    },
    {
      "cell_type": "markdown",
      "id": "f3134c4f-ed53-4896-a098-d857a7ce17d4",
      "metadata": {
        "deletable": false,
        "editable": false,
        "nbgrader": {
          "cell_type": "markdown",
          "checksum": "24bf74ad33188af953d345d870aceb1f",
          "grade": false,
          "grade_id": "cell-9b60b0cffedc50ff",
          "locked": true,
          "schema_version": 3,
          "solution": false,
          "task": false
        },
        "id": "f3134c4f-ed53-4896-a098-d857a7ce17d4"
      },
      "source": [
        "Test your implementation by running the following cell."
      ]
    },
    {
      "cell_type": "code",
      "execution_count": 13,
      "id": "949e7806-09d4-4c7a-8477-93e6f62aa258",
      "metadata": {
        "deletable": false,
        "editable": false,
        "nbgrader": {
          "cell_type": "code",
          "checksum": "08f24e6f4177affd3f643ac34278444c",
          "grade": true,
          "grade_id": "cell-94f30d465d40cf21",
          "locked": true,
          "points": 0.2,
          "schema_version": 3,
          "solution": false,
          "task": false
        },
        "id": "949e7806-09d4-4c7a-8477-93e6f62aa258"
      },
      "outputs": [],
      "source": [
        "### TEST\n",
        "assert get_price(product_elements[0]) == 51.77"
      ]
    },
    {
      "cell_type": "code",
      "execution_count": 14,
      "id": "632d444d-8e23-4c47-ab39-d8e813a4de6f",
      "metadata": {
        "deletable": false,
        "editable": false,
        "nbgrader": {
          "cell_type": "code",
          "checksum": "19f2198c3ca683d4b2366d0e1c44abff",
          "grade": false,
          "grade_id": "cell-0b12df0ecf5ed50f",
          "locked": true,
          "schema_version": 3,
          "solution": false,
          "task": false
        },
        "id": "632d444d-8e23-4c47-ab39-d8e813a4de6f"
      },
      "outputs": [],
      "source": [
        "def get_attributes(product_element):\n",
        "    return {\n",
        "        \"image_url\": get_image_url(product_element),\n",
        "        \"rating\": get_rating(product_element),\n",
        "        \"title\": get_title(product_element),\n",
        "        \"price\": get_price(product_element),\n",
        "    }"
      ]
    },
    {
      "cell_type": "code",
      "execution_count": 15,
      "id": "828ad04b-7265-4e44-83c0-64b5a1dadf5b",
      "metadata": {
        "deletable": false,
        "editable": false,
        "nbgrader": {
          "cell_type": "code",
          "checksum": "1c37fb428185f5e3fa8cd927f2d93dda",
          "grade": false,
          "grade_id": "cell-c64a56c997efa9c7",
          "locked": true,
          "schema_version": 3,
          "solution": false,
          "task": false
        },
        "colab": {
          "base_uri": "https://localhost:8080/"
        },
        "id": "828ad04b-7265-4e44-83c0-64b5a1dadf5b",
        "outputId": "895e1baf-b3ea-4552-e47d-14d78809dc18"
      },
      "outputs": [
        {
          "output_type": "execute_result",
          "data": {
            "text/plain": [
              "{'image_url': 'media/cache/2c/da/2cdad67c44b002e7ead0cc35693c0e8b.jpg',\n",
              " 'rating': 3,\n",
              " 'title': 'A Light in the Attic',\n",
              " 'price': 51.77}"
            ]
          },
          "metadata": {},
          "execution_count": 15
        }
      ],
      "source": [
        "get_attributes(product_elements[0])"
      ]
    },
    {
      "cell_type": "code",
      "execution_count": 16,
      "id": "6b7f62fa-9e23-49cc-b57a-88e81039fcbc",
      "metadata": {
        "deletable": false,
        "editable": false,
        "nbgrader": {
          "cell_type": "code",
          "checksum": "523d019095cbd6eafa24a16f9b4419ff",
          "grade": false,
          "grade_id": "cell-e01c627713c55cc9",
          "locked": true,
          "schema_version": 3,
          "solution": false,
          "task": false
        },
        "id": "6b7f62fa-9e23-49cc-b57a-88e81039fcbc"
      },
      "outputs": [],
      "source": [
        "product_data = [get_attributes(product_element) for product_element in product_elements]"
      ]
    },
    {
      "cell_type": "code",
      "execution_count": 17,
      "id": "fb9e61ed-967a-4708-991e-eee41ef98b6f",
      "metadata": {
        "deletable": false,
        "editable": false,
        "nbgrader": {
          "cell_type": "code",
          "checksum": "9e4890dcb129e6d5ac36c07fe2155a38",
          "grade": false,
          "grade_id": "cell-c052e5ea8ab305cf",
          "locked": true,
          "schema_version": 3,
          "solution": false,
          "task": false
        },
        "id": "fb9e61ed-967a-4708-991e-eee41ef98b6f"
      },
      "outputs": [],
      "source": [
        "df = pd.DataFrame(product_data)"
      ]
    },
    {
      "cell_type": "code",
      "execution_count": 18,
      "id": "2dfcebe6-5067-473a-a2a7-9c3c8398fa2e",
      "metadata": {
        "deletable": false,
        "editable": false,
        "nbgrader": {
          "cell_type": "code",
          "checksum": "280615ab04def73fd2fa632ca61ff63e",
          "grade": false,
          "grade_id": "cell-a6222aa3baebb271",
          "locked": true,
          "schema_version": 3,
          "solution": false,
          "task": false
        },
        "colab": {
          "base_uri": "https://localhost:8080/",
          "height": 206
        },
        "id": "2dfcebe6-5067-473a-a2a7-9c3c8398fa2e",
        "outputId": "b8af0832-c144-411e-d77c-d0d031987521"
      },
      "outputs": [
        {
          "output_type": "execute_result",
          "data": {
            "text/plain": [
              "                                           image_url  rating  \\\n",
              "0  media/cache/2c/da/2cdad67c44b002e7ead0cc35693c...       3   \n",
              "1  media/cache/26/0c/260c6ae16bce31c8f8c95daddd9f...       1   \n",
              "2  media/cache/3e/ef/3eef99c9d9adef34639f51066202...       1   \n",
              "3  media/cache/32/51/3251cf3a3412f53f339e42cac213...       4   \n",
              "4  media/cache/be/a5/bea5697f2534a2f86a3ef27b5a8c...       5   \n",
              "\n",
              "                                   title  price  \n",
              "0                   A Light in the Attic  51.77  \n",
              "1                     Tipping the Velvet  53.74  \n",
              "2                             Soumission  50.10  \n",
              "3                          Sharp Objects  47.82  \n",
              "4  Sapiens: A Brief History of Humankind  54.23  "
            ],
            "text/html": [
              "\n",
              "  <div id=\"df-c634732d-4423-4383-850d-54e5d0a05f61\" class=\"colab-df-container\">\n",
              "    <div>\n",
              "<style scoped>\n",
              "    .dataframe tbody tr th:only-of-type {\n",
              "        vertical-align: middle;\n",
              "    }\n",
              "\n",
              "    .dataframe tbody tr th {\n",
              "        vertical-align: top;\n",
              "    }\n",
              "\n",
              "    .dataframe thead th {\n",
              "        text-align: right;\n",
              "    }\n",
              "</style>\n",
              "<table border=\"1\" class=\"dataframe\">\n",
              "  <thead>\n",
              "    <tr style=\"text-align: right;\">\n",
              "      <th></th>\n",
              "      <th>image_url</th>\n",
              "      <th>rating</th>\n",
              "      <th>title</th>\n",
              "      <th>price</th>\n",
              "    </tr>\n",
              "  </thead>\n",
              "  <tbody>\n",
              "    <tr>\n",
              "      <th>0</th>\n",
              "      <td>media/cache/2c/da/2cdad67c44b002e7ead0cc35693c...</td>\n",
              "      <td>3</td>\n",
              "      <td>A Light in the Attic</td>\n",
              "      <td>51.77</td>\n",
              "    </tr>\n",
              "    <tr>\n",
              "      <th>1</th>\n",
              "      <td>media/cache/26/0c/260c6ae16bce31c8f8c95daddd9f...</td>\n",
              "      <td>1</td>\n",
              "      <td>Tipping the Velvet</td>\n",
              "      <td>53.74</td>\n",
              "    </tr>\n",
              "    <tr>\n",
              "      <th>2</th>\n",
              "      <td>media/cache/3e/ef/3eef99c9d9adef34639f51066202...</td>\n",
              "      <td>1</td>\n",
              "      <td>Soumission</td>\n",
              "      <td>50.10</td>\n",
              "    </tr>\n",
              "    <tr>\n",
              "      <th>3</th>\n",
              "      <td>media/cache/32/51/3251cf3a3412f53f339e42cac213...</td>\n",
              "      <td>4</td>\n",
              "      <td>Sharp Objects</td>\n",
              "      <td>47.82</td>\n",
              "    </tr>\n",
              "    <tr>\n",
              "      <th>4</th>\n",
              "      <td>media/cache/be/a5/bea5697f2534a2f86a3ef27b5a8c...</td>\n",
              "      <td>5</td>\n",
              "      <td>Sapiens: A Brief History of Humankind</td>\n",
              "      <td>54.23</td>\n",
              "    </tr>\n",
              "  </tbody>\n",
              "</table>\n",
              "</div>\n",
              "    <div class=\"colab-df-buttons\">\n",
              "\n",
              "  <div class=\"colab-df-container\">\n",
              "    <button class=\"colab-df-convert\" onclick=\"convertToInteractive('df-c634732d-4423-4383-850d-54e5d0a05f61')\"\n",
              "            title=\"Convert this dataframe to an interactive table.\"\n",
              "            style=\"display:none;\">\n",
              "\n",
              "  <svg xmlns=\"http://www.w3.org/2000/svg\" height=\"24px\" viewBox=\"0 -960 960 960\">\n",
              "    <path d=\"M120-120v-720h720v720H120Zm60-500h600v-160H180v160Zm220 220h160v-160H400v160Zm0 220h160v-160H400v160ZM180-400h160v-160H180v160Zm440 0h160v-160H620v160ZM180-180h160v-160H180v160Zm440 0h160v-160H620v160Z\"/>\n",
              "  </svg>\n",
              "    </button>\n",
              "\n",
              "  <style>\n",
              "    .colab-df-container {\n",
              "      display:flex;\n",
              "      gap: 12px;\n",
              "    }\n",
              "\n",
              "    .colab-df-convert {\n",
              "      background-color: #E8F0FE;\n",
              "      border: none;\n",
              "      border-radius: 50%;\n",
              "      cursor: pointer;\n",
              "      display: none;\n",
              "      fill: #1967D2;\n",
              "      height: 32px;\n",
              "      padding: 0 0 0 0;\n",
              "      width: 32px;\n",
              "    }\n",
              "\n",
              "    .colab-df-convert:hover {\n",
              "      background-color: #E2EBFA;\n",
              "      box-shadow: 0px 1px 2px rgba(60, 64, 67, 0.3), 0px 1px 3px 1px rgba(60, 64, 67, 0.15);\n",
              "      fill: #174EA6;\n",
              "    }\n",
              "\n",
              "    .colab-df-buttons div {\n",
              "      margin-bottom: 4px;\n",
              "    }\n",
              "\n",
              "    [theme=dark] .colab-df-convert {\n",
              "      background-color: #3B4455;\n",
              "      fill: #D2E3FC;\n",
              "    }\n",
              "\n",
              "    [theme=dark] .colab-df-convert:hover {\n",
              "      background-color: #434B5C;\n",
              "      box-shadow: 0px 1px 3px 1px rgba(0, 0, 0, 0.15);\n",
              "      filter: drop-shadow(0px 1px 2px rgba(0, 0, 0, 0.3));\n",
              "      fill: #FFFFFF;\n",
              "    }\n",
              "  </style>\n",
              "\n",
              "    <script>\n",
              "      const buttonEl =\n",
              "        document.querySelector('#df-c634732d-4423-4383-850d-54e5d0a05f61 button.colab-df-convert');\n",
              "      buttonEl.style.display =\n",
              "        google.colab.kernel.accessAllowed ? 'block' : 'none';\n",
              "\n",
              "      async function convertToInteractive(key) {\n",
              "        const element = document.querySelector('#df-c634732d-4423-4383-850d-54e5d0a05f61');\n",
              "        const dataTable =\n",
              "          await google.colab.kernel.invokeFunction('convertToInteractive',\n",
              "                                                    [key], {});\n",
              "        if (!dataTable) return;\n",
              "\n",
              "        const docLinkHtml = 'Like what you see? Visit the ' +\n",
              "          '<a target=\"_blank\" href=https://colab.research.google.com/notebooks/data_table.ipynb>data table notebook</a>'\n",
              "          + ' to learn more about interactive tables.';\n",
              "        element.innerHTML = '';\n",
              "        dataTable['output_type'] = 'display_data';\n",
              "        await google.colab.output.renderOutput(dataTable, element);\n",
              "        const docLink = document.createElement('div');\n",
              "        docLink.innerHTML = docLinkHtml;\n",
              "        element.appendChild(docLink);\n",
              "      }\n",
              "    </script>\n",
              "  </div>\n",
              "\n",
              "\n",
              "    <div id=\"df-d5e1edb4-958b-4867-bcd0-8e761cc078d5\">\n",
              "      <button class=\"colab-df-quickchart\" onclick=\"quickchart('df-d5e1edb4-958b-4867-bcd0-8e761cc078d5')\"\n",
              "                title=\"Suggest charts\"\n",
              "                style=\"display:none;\">\n",
              "\n",
              "<svg xmlns=\"http://www.w3.org/2000/svg\" height=\"24px\"viewBox=\"0 0 24 24\"\n",
              "     width=\"24px\">\n",
              "    <g>\n",
              "        <path d=\"M19 3H5c-1.1 0-2 .9-2 2v14c0 1.1.9 2 2 2h14c1.1 0 2-.9 2-2V5c0-1.1-.9-2-2-2zM9 17H7v-7h2v7zm4 0h-2V7h2v10zm4 0h-2v-4h2v4z\"/>\n",
              "    </g>\n",
              "</svg>\n",
              "      </button>\n",
              "\n",
              "<style>\n",
              "  .colab-df-quickchart {\n",
              "      --bg-color: #E8F0FE;\n",
              "      --fill-color: #1967D2;\n",
              "      --hover-bg-color: #E2EBFA;\n",
              "      --hover-fill-color: #174EA6;\n",
              "      --disabled-fill-color: #AAA;\n",
              "      --disabled-bg-color: #DDD;\n",
              "  }\n",
              "\n",
              "  [theme=dark] .colab-df-quickchart {\n",
              "      --bg-color: #3B4455;\n",
              "      --fill-color: #D2E3FC;\n",
              "      --hover-bg-color: #434B5C;\n",
              "      --hover-fill-color: #FFFFFF;\n",
              "      --disabled-bg-color: #3B4455;\n",
              "      --disabled-fill-color: #666;\n",
              "  }\n",
              "\n",
              "  .colab-df-quickchart {\n",
              "    background-color: var(--bg-color);\n",
              "    border: none;\n",
              "    border-radius: 50%;\n",
              "    cursor: pointer;\n",
              "    display: none;\n",
              "    fill: var(--fill-color);\n",
              "    height: 32px;\n",
              "    padding: 0;\n",
              "    width: 32px;\n",
              "  }\n",
              "\n",
              "  .colab-df-quickchart:hover {\n",
              "    background-color: var(--hover-bg-color);\n",
              "    box-shadow: 0 1px 2px rgba(60, 64, 67, 0.3), 0 1px 3px 1px rgba(60, 64, 67, 0.15);\n",
              "    fill: var(--button-hover-fill-color);\n",
              "  }\n",
              "\n",
              "  .colab-df-quickchart-complete:disabled,\n",
              "  .colab-df-quickchart-complete:disabled:hover {\n",
              "    background-color: var(--disabled-bg-color);\n",
              "    fill: var(--disabled-fill-color);\n",
              "    box-shadow: none;\n",
              "  }\n",
              "\n",
              "  .colab-df-spinner {\n",
              "    border: 2px solid var(--fill-color);\n",
              "    border-color: transparent;\n",
              "    border-bottom-color: var(--fill-color);\n",
              "    animation:\n",
              "      spin 1s steps(1) infinite;\n",
              "  }\n",
              "\n",
              "  @keyframes spin {\n",
              "    0% {\n",
              "      border-color: transparent;\n",
              "      border-bottom-color: var(--fill-color);\n",
              "      border-left-color: var(--fill-color);\n",
              "    }\n",
              "    20% {\n",
              "      border-color: transparent;\n",
              "      border-left-color: var(--fill-color);\n",
              "      border-top-color: var(--fill-color);\n",
              "    }\n",
              "    30% {\n",
              "      border-color: transparent;\n",
              "      border-left-color: var(--fill-color);\n",
              "      border-top-color: var(--fill-color);\n",
              "      border-right-color: var(--fill-color);\n",
              "    }\n",
              "    40% {\n",
              "      border-color: transparent;\n",
              "      border-right-color: var(--fill-color);\n",
              "      border-top-color: var(--fill-color);\n",
              "    }\n",
              "    60% {\n",
              "      border-color: transparent;\n",
              "      border-right-color: var(--fill-color);\n",
              "    }\n",
              "    80% {\n",
              "      border-color: transparent;\n",
              "      border-right-color: var(--fill-color);\n",
              "      border-bottom-color: var(--fill-color);\n",
              "    }\n",
              "    90% {\n",
              "      border-color: transparent;\n",
              "      border-bottom-color: var(--fill-color);\n",
              "    }\n",
              "  }\n",
              "</style>\n",
              "\n",
              "      <script>\n",
              "        async function quickchart(key) {\n",
              "          const quickchartButtonEl =\n",
              "            document.querySelector('#' + key + ' button');\n",
              "          quickchartButtonEl.disabled = true;  // To prevent multiple clicks.\n",
              "          quickchartButtonEl.classList.add('colab-df-spinner');\n",
              "          try {\n",
              "            const charts = await google.colab.kernel.invokeFunction(\n",
              "                'suggestCharts', [key], {});\n",
              "          } catch (error) {\n",
              "            console.error('Error during call to suggestCharts:', error);\n",
              "          }\n",
              "          quickchartButtonEl.classList.remove('colab-df-spinner');\n",
              "          quickchartButtonEl.classList.add('colab-df-quickchart-complete');\n",
              "        }\n",
              "        (() => {\n",
              "          let quickchartButtonEl =\n",
              "            document.querySelector('#df-d5e1edb4-958b-4867-bcd0-8e761cc078d5 button');\n",
              "          quickchartButtonEl.style.display =\n",
              "            google.colab.kernel.accessAllowed ? 'block' : 'none';\n",
              "        })();\n",
              "      </script>\n",
              "    </div>\n",
              "    </div>\n",
              "  </div>\n"
            ],
            "application/vnd.google.colaboratory.intrinsic+json": {
              "type": "dataframe",
              "variable_name": "df",
              "summary": "{\n  \"name\": \"df\",\n  \"rows\": 20,\n  \"fields\": [\n    {\n      \"column\": \"image_url\",\n      \"properties\": {\n        \"dtype\": \"string\",\n        \"num_unique_values\": 20,\n        \"samples\": [\n          \"media/cache/2c/da/2cdad67c44b002e7ead0cc35693c0e8b.jpg\",\n          \"media/cache/09/a3/09a3aef48557576e1a85ba7efea8ecb7.jpg\",\n          \"media/cache/54/60/54607fe8945897cdcced0044103b10b6.jpg\"\n        ],\n        \"semantic_type\": \"\",\n        \"description\": \"\"\n      }\n    },\n    {\n      \"column\": \"rating\",\n      \"properties\": {\n        \"dtype\": \"number\",\n        \"std\": 1,\n        \"min\": 1,\n        \"max\": 5,\n        \"num_unique_values\": 5,\n        \"samples\": [\n          1,\n          2,\n          4\n        ],\n        \"semantic_type\": \"\",\n        \"description\": \"\"\n      }\n    },\n    {\n      \"column\": \"title\",\n      \"properties\": {\n        \"dtype\": \"string\",\n        \"num_unique_values\": 20,\n        \"samples\": [\n          \"A Light in the Attic\",\n          \"Mesaerion: The Best Science Fiction Stories 1800-1849\",\n          \"Our Band Could Be Your Life: Scenes from the American Indie Underground, 1981-1991\"\n        ],\n        \"semantic_type\": \"\",\n        \"description\": \"\"\n      }\n    },\n    {\n      \"column\": \"price\",\n      \"properties\": {\n        \"dtype\": \"number\",\n        \"std\": 15.135230520039556,\n        \"min\": 13.99,\n        \"max\": 57.25,\n        \"num_unique_values\": 20,\n        \"samples\": [\n          51.77,\n          37.59,\n          57.25\n        ],\n        \"semantic_type\": \"\",\n        \"description\": \"\"\n      }\n    }\n  ]\n}"
            }
          },
          "metadata": {},
          "execution_count": 18
        }
      ],
      "source": [
        "df.head()"
      ]
    },
    {
      "cell_type": "markdown",
      "id": "8d0653ab-8874-412f-8963-da65dd5a3aac",
      "metadata": {
        "deletable": false,
        "editable": false,
        "nbgrader": {
          "cell_type": "markdown",
          "checksum": "75a7c7569c8098c3455770cacfd2df77",
          "grade": false,
          "grade_id": "cell-a73cd5dc3c259cff",
          "locked": true,
          "schema_version": 3,
          "solution": false,
          "task": false
        },
        "id": "8d0653ab-8874-412f-8963-da65dd5a3aac"
      },
      "source": [
        "***If you were not able to complete the previous tasks successfully, you may uncomment the following line to continue with the next steps.***"
      ]
    },
    {
      "cell_type": "code",
      "execution_count": 19,
      "id": "b9d0f73f-8274-4499-a76a-fc1717104335",
      "metadata": {
        "id": "b9d0f73f-8274-4499-a76a-fc1717104335"
      },
      "outputs": [],
      "source": [
        "# df = pd.read_csv(\"products.csv\")"
      ]
    },
    {
      "cell_type": "markdown",
      "id": "7a172458-9c1e-4c36-828a-6caa28ddab43",
      "metadata": {
        "deletable": false,
        "editable": false,
        "nbgrader": {
          "cell_type": "markdown",
          "checksum": "a6d73ee90981910d1864f1f4c43b7e55",
          "grade": false,
          "grade_id": "cell-414fe247e55c64be",
          "locked": true,
          "schema_version": 3,
          "solution": false,
          "task": false
        },
        "id": "7a172458-9c1e-4c36-828a-6caa28ddab43"
      },
      "source": [
        "**(0.2 points)** Create a visualization showing the number of products for each rating (1-5)."
      ]
    },
    {
      "cell_type": "code",
      "execution_count": 20,
      "id": "b0f9e153-bac9-41b0-9f47-82b18cba4b47",
      "metadata": {
        "deletable": false,
        "nbgrader": {
          "cell_type": "code",
          "checksum": "8a6cb85c5659eaca7bd25d615dd37eef",
          "grade": true,
          "grade_id": "cell-fc2d7650b3805138",
          "locked": false,
          "points": 0.2,
          "schema_version": 3,
          "solution": true,
          "task": false
        },
        "id": "b0f9e153-bac9-41b0-9f47-82b18cba4b47"
      },
      "outputs": [],
      "source": [
        "### MANUALLY GRADED TASK\n",
        "def plot_counts_by_rating(df):\n",
        "    \"Plot the count of products by rating.\"\"\"\n",
        "\n",
        "    df[\"rating\"].value_counts().sort_index().plot.bar()"
      ]
    },
    {
      "cell_type": "code",
      "execution_count": 21,
      "id": "f9beb3c1-f39d-4147-840a-51da9eefa5c2",
      "metadata": {
        "deletable": false,
        "editable": false,
        "nbgrader": {
          "cell_type": "code",
          "checksum": "5b319bd095a02df84f753372ebd07d43",
          "grade": false,
          "grade_id": "cell-6edcc72eac82aca4",
          "locked": true,
          "schema_version": 3,
          "solution": false,
          "task": false
        },
        "colab": {
          "base_uri": "https://localhost:8080/",
          "height": 444
        },
        "id": "f9beb3c1-f39d-4147-840a-51da9eefa5c2",
        "outputId": "fe01cabc-8f7c-45ad-a456-cd82549a49e9"
      },
      "outputs": [
        {
          "output_type": "display_data",
          "data": {
            "text/plain": [
              "<Figure size 640x480 with 1 Axes>"
            ],
            "image/png": "[encoded data removed]"
          },
          "metadata": {}
        }
      ],
      "source": [
        "plot_counts_by_rating(df)"
      ]
    },
    {
      "cell_type": "markdown",
      "id": "85fa7b8a-feeb-4068-a4e9-21506cdd9037",
      "metadata": {
        "deletable": false,
        "editable": false,
        "nbgrader": {
          "cell_type": "markdown",
          "checksum": "920d6cbff746e1e62c39b1b7cd6861c7",
          "grade": false,
          "grade_id": "cell-11109662304c5a2b",
          "locked": true,
          "schema_version": 3,
          "solution": false,
          "task": false
        },
        "id": "85fa7b8a-feeb-4068-a4e9-21506cdd9037"
      },
      "source": [
        "**(0.2 points)** Create a visualization showing the distribution of product prices."
      ]
    },
    {
      "cell_type": "code",
      "execution_count": 41,
      "id": "279b0b57-81cb-4d2d-9a24-f5f6da53da24",
      "metadata": {
        "deletable": false,
        "nbgrader": {
          "cell_type": "code",
          "checksum": "d63d2f332992dce6aecc06b0021982d2",
          "grade": true,
          "grade_id": "cell-50327b69fe70d25e",
          "locked": false,
          "points": 0.2,
          "schema_version": 3,
          "solution": true,
          "task": false
        },
        "id": "279b0b57-81cb-4d2d-9a24-f5f6da53da24"
      },
      "outputs": [],
      "source": [
        "### MANUALLY GRADED TASK\n",
        "def plot_price_distribution(df):\n",
        "    \"\"\"Plot the price distribution of the products.\"\"\"\n",
        "\n",
        "    # TODO ???\n",
        "\n",
        "    plt.boxplot(df[\"price\"])\n",
        "\n",
        "    # df['price'].hist(bins=20)"
      ]
    },
    {
      "cell_type": "code",
      "execution_count": 42,
      "id": "e1d91142-5042-4e9c-8125-cab2fd5088eb",
      "metadata": {
        "deletable": false,
        "editable": false,
        "nbgrader": {
          "cell_type": "code",
          "checksum": "b77dfb66f2a0ac5d66d28ae229d05373",
          "grade": false,
          "grade_id": "cell-a87aa9d8d7eac193",
          "locked": true,
          "schema_version": 3,
          "solution": false,
          "task": false
        },
        "colab": {
          "base_uri": "https://localhost:8080/",
          "height": 430
        },
        "id": "e1d91142-5042-4e9c-8125-cab2fd5088eb",
        "outputId": "7e9b0e96-7060-466d-e530-22839f8060e9"
      },
      "outputs": [
        {
          "output_type": "display_data",
          "data": {
            "text/plain": [
              "<Figure size 640x480 with 1 Axes>"
            ],
            "image/png": "[encoded data removed]"
          },
          "metadata": {}
        }
      ],
      "source": [
        "plot_price_distribution(df)"
      ]
    },
    {
      "cell_type": "markdown",
      "id": "cff23ea9-ac2d-4e52-a9f0-18f5093f6aea",
      "metadata": {
        "deletable": false,
        "editable": false,
        "nbgrader": {
          "cell_type": "markdown",
          "checksum": "27c1f75ad39498e221a6386dc8130bfc",
          "grade": false,
          "grade_id": "cell-063d869a0d2fe147",
          "locked": true,
          "schema_version": 3,
          "solution": false,
          "task": false
        },
        "id": "cff23ea9-ac2d-4e52-a9f0-18f5093f6aea"
      },
      "source": [
        "**(0.2 points)** Create a visualization showing the distribution of product title lengths."
      ]
    },
    {
      "cell_type": "code",
      "execution_count": 24,
      "id": "40ff8149-db66-480b-b9bd-0ceececcbfac",
      "metadata": {
        "deletable": false,
        "nbgrader": {
          "cell_type": "code",
          "checksum": "2186e711aafca08cdf75c1a4a07688e4",
          "grade": true,
          "grade_id": "cell-e9dc38d2f366378e",
          "locked": false,
          "points": 0.2,
          "schema_version": 3,
          "solution": true,
          "task": false
        },
        "id": "40ff8149-db66-480b-b9bd-0ceececcbfac"
      },
      "outputs": [],
      "source": [
        "### MANUALLY GRADED TASK\n",
        "def plot_title_length_distribution(df):\n",
        "    \"\"\"Plot the distribution of the title lengths.\"\"\"\n",
        "    # ????\n",
        "\n",
        "    # df[\"title\"].apply(lambda t: len(t)).value_counts().sort_index().plot.bar()\n",
        "\n",
        "    plt.hist(df[\"title\"].apply(len), bins=30)\n",
        "    plt.show()\n",
        "\n",
        "    # plt.boxplot(df[\"title\"].apply(len), vert=False)\n",
        "    # plt.show()\n",
        "\n",
        "    # df[\"title\"].apply(len).plot(kind='kde')\n"
      ]
    },
    {
      "cell_type": "code",
      "execution_count": 25,
      "id": "e53dbf0c-c002-4d95-8c85-bc6a920535ce",
      "metadata": {
        "deletable": false,
        "editable": false,
        "nbgrader": {
          "cell_type": "code",
          "checksum": "143e5ef2003a7d28c7bb4ce621b44bf0",
          "grade": false,
          "grade_id": "cell-8d619faebf823e49",
          "locked": true,
          "schema_version": 3,
          "solution": false,
          "task": false
        },
        "colab": {
          "base_uri": "https://localhost:8080/",
          "height": 430
        },
        "id": "e53dbf0c-c002-4d95-8c85-bc6a920535ce",
        "outputId": "73900949-99e4-4ac1-ebb4-8c8c3281c75f"
      },
      "outputs": [
        {
          "output_type": "display_data",
          "data": {
            "text/plain": [
              "<Figure size 640x480 with 1 Axes>"
            ],
            "image/png": "[encoded data removed]"
          },
          "metadata": {}
        }
      ],
      "source": [
        "plot_title_length_distribution(df)\n"
      ]
    },
    {
      "cell_type": "markdown",
      "id": "61d107fc-eccb-4723-9f63-3051c45f9c99",
      "metadata": {
        "deletable": false,
        "editable": false,
        "nbgrader": {
          "cell_type": "markdown",
          "checksum": "6d46c1312cd1f1e3632eccab59cccb1e",
          "grade": false,
          "grade_id": "cell-5a5d4e23eb61589c",
          "locked": true,
          "schema_version": 3,
          "solution": false,
          "task": false
        },
        "id": "61d107fc-eccb-4723-9f63-3051c45f9c99"
      },
      "source": [
        "**(0.2 points)** Create box plots showing the distribution of product prices for each rating."
      ]
    },
    {
      "cell_type": "code",
      "execution_count": 26,
      "id": "d598536e-af9a-4476-b6ef-cc678f234266",
      "metadata": {
        "deletable": false,
        "nbgrader": {
          "cell_type": "code",
          "checksum": "ed9dc5264d2a49976cb81c2ad013b92d",
          "grade": true,
          "grade_id": "cell-166144cfad577966",
          "locked": false,
          "points": 0.2,
          "schema_version": 3,
          "solution": true,
          "task": false
        },
        "id": "d598536e-af9a-4476-b6ef-cc678f234266"
      },
      "outputs": [],
      "source": [
        "### MANUALLY GRADED ANSWER\n",
        "def plot_price_distribution_per_rating(df):\n",
        "    \"\"\"Plot the price distribution of the products per rating.\"\"\"\n",
        "\n",
        "    sns.boxplot(df[[\"rating\", \"price\"]], x=\"rating\", y=\"price\")"
      ]
    },
    {
      "cell_type": "code",
      "execution_count": 27,
      "id": "7b9df295-d348-4261-a22d-2b403eb16c73",
      "metadata": {
        "deletable": false,
        "editable": false,
        "nbgrader": {
          "cell_type": "code",
          "checksum": "9364b273ab238b25155deb056955de24",
          "grade": false,
          "grade_id": "cell-7b7612411b9ade82",
          "locked": true,
          "schema_version": 3,
          "solution": false,
          "task": false
        },
        "colab": {
          "base_uri": "https://localhost:8080/",
          "height": 449
        },
        "id": "7b9df295-d348-4261-a22d-2b403eb16c73",
        "outputId": "e7723c49-3748-4fee-f0f6-b82492ffb82f"
      },
      "outputs": [
        {
          "output_type": "display_data",
          "data": {
            "text/plain": [
              "<Figure size 640x480 with 1 Axes>"
            ],
            "image/png": "[encoded data removed]"
          },
          "metadata": {}
        }
      ],
      "source": [
        "plot_price_distribution_per_rating(df)\n"
      ]
    },
    {
      "cell_type": "markdown",
      "id": "081113de-6f31-466d-aeab-b382acb4c634",
      "metadata": {
        "deletable": false,
        "editable": false,
        "nbgrader": {
          "cell_type": "markdown",
          "checksum": "e0b018084c5b4cff0c15d3a8d0366c84",
          "grade": false,
          "grade_id": "cell-594199d9e7058580",
          "locked": true,
          "schema_version": 3,
          "solution": false,
          "task": false
        },
        "id": "081113de-6f31-466d-aeab-b382acb4c634"
      },
      "source": [
        "**(0.2 points)** Create a heatmap showing the Pearson correlation between the numeric variables in the dataset."
      ]
    },
    {
      "cell_type": "code",
      "execution_count": 28,
      "id": "b08b8631-7a85-4e86-a18e-b7f9e6a0bcc2",
      "metadata": {
        "deletable": false,
        "nbgrader": {
          "cell_type": "code",
          "checksum": "3d5f1b86cefeea330489302800152086",
          "grade": true,
          "grade_id": "cell-9be6a485a8e959e3",
          "locked": false,
          "points": 0.2,
          "schema_version": 3,
          "solution": true,
          "task": false
        },
        "id": "b08b8631-7a85-4e86-a18e-b7f9e6a0bcc2"
      },
      "outputs": [],
      "source": [
        "### MANUALLY GRADED ANSWER\n",
        "def plot_corr_heat_map(df):\n",
        "    \"\"\"Plot the Pearson correlation between the numeric variables in the dataset using a heat map.\"\"\"\n",
        "\n",
        "    sns.heatmap( df.corr('pearson', numeric_only=True), annot=True )\n"
      ]
    },
    {
      "cell_type": "code",
      "execution_count": 29,
      "id": "f1c3afad-18c1-4f29-9ce0-e9043d2d46ee",
      "metadata": {
        "deletable": false,
        "editable": false,
        "nbgrader": {
          "cell_type": "code",
          "checksum": "2eb1199c990a29c028ed959dfaf12c85",
          "grade": false,
          "grade_id": "cell-913ad0c56a720ef5",
          "locked": true,
          "schema_version": 3,
          "solution": false,
          "task": false
        },
        "colab": {
          "base_uri": "https://localhost:8080/",
          "height": 435
        },
        "id": "f1c3afad-18c1-4f29-9ce0-e9043d2d46ee",
        "outputId": "694a0672-0aad-4044-8182-634019944c62"
      },
      "outputs": [
        {
          "output_type": "display_data",
          "data": {
            "text/plain": [
              "<Figure size 640x480 with 2 Axes>"
            ],
            "image/png": "[encoded data removed]"
          },
          "metadata": {}
        }
      ],
      "source": [
        "plot_corr_heat_map(df)"
      ]
    },
    {
      "cell_type": "markdown",
      "id": "33056e68-7595-45c9-97d5-13c7aa4fc299",
      "metadata": {
        "deletable": false,
        "editable": false,
        "nbgrader": {
          "cell_type": "markdown",
          "checksum": "b34e0dec2dc8ca70bdae1dbed5b2a75b",
          "grade": false,
          "grade_id": "cell-bf617ed79ed7e37c",
          "locked": true,
          "schema_version": 3,
          "solution": false,
          "task": false
        },
        "id": "33056e68-7595-45c9-97d5-13c7aa4fc299"
      },
      "source": [
        "**(0.2 points)** Compute the `count`, `mean`, `std`, `min`, `25%`, `median`, `75%`, and `max` statistics of product prices grouped by rating (1-5)."
      ]
    },
    {
      "cell_type": "code",
      "execution_count": 85,
      "id": "c82fbdd8-b866-429c-95d3-7dcc6acb2a6e",
      "metadata": {
        "deletable": false,
        "nbgrader": {
          "cell_type": "code",
          "checksum": "b9a9df3186e7d8e166cb50270c856c33",
          "grade": true,
          "grade_id": "cell-9dea05ecfb980c40",
          "locked": false,
          "points": 0.2,
          "schema_version": 3,
          "solution": true,
          "task": false
        },
        "id": "c82fbdd8-b866-429c-95d3-7dcc6acb2a6e"
      },
      "outputs": [],
      "source": [
        "### MANUALLY GRADED ANSWER\n",
        "def compute_descriptive_stats_for_price_per_rating(df):\n",
        "    \"\"\"\n",
        "    Compute the `count`, `mean`, `std`, `min`, `25% quantile`, `median`, `75% quantile`, and `max` statistics\n",
        "    for the product's prices per rating (1-5). Return them as a `pandas.DataFrame`.\n",
        "    \"\"\"\n",
        "\n",
        "    return df.groupby('rating')[['price']].describe()\n"
      ]
    },
    {
      "cell_type": "code",
      "execution_count": 86,
      "id": "60d5280e-975c-4520-9063-ebb4b3620b01",
      "metadata": {
        "deletable": false,
        "editable": false,
        "nbgrader": {
          "cell_type": "code",
          "checksum": "79c6bab3502840dff295ac18714d567d",
          "grade": false,
          "grade_id": "cell-a3d6c0fcca8e42a3",
          "locked": true,
          "schema_version": 3,
          "solution": false,
          "task": false
        },
        "colab": {
          "base_uri": "https://localhost:8080/",
          "height": 269
        },
        "id": "60d5280e-975c-4520-9063-ebb4b3620b01",
        "outputId": "5ee6ea40-0481-4777-e2f7-e56198b738cc"
      },
      "outputs": [
        {
          "output_type": "execute_result",
          "data": {
            "text/plain": [
              "       price                                                              \n",
              "       count       mean        std    min      25%     50%      75%    max\n",
              "rating                                                                    \n",
              "1        6.0  40.018333  14.178174  22.65  27.3075  43.845  51.6375  53.74\n",
              "2        3.0  36.830000  20.018382  13.99  29.5800  45.170  48.2500  51.33\n",
              "3        3.0  42.316667  21.296472  17.93  34.8500  51.770  54.5100  57.25\n",
              "4        4.0  31.105000  12.460865  20.66  22.1150  27.970  36.9600  47.82\n",
              "5        4.0  39.750000  17.186613  17.46  30.6300  43.655  52.7750  54.23"
            ],
            "text/html": [
              "\n",
              "  <div id=\"df-7a116ff8-eec4-4fd7-a38e-dfdd17c10351\" class=\"colab-df-container\">\n",
              "    <div>\n",
              "<style scoped>\n",
              "    .dataframe tbody tr th:only-of-type {\n",
              "        vertical-align: middle;\n",
              "    }\n",
              "\n",
              "    .dataframe tbody tr th {\n",
              "        vertical-align: top;\n",
              "    }\n",
              "\n",
              "    .dataframe thead tr th {\n",
              "        text-align: left;\n",
              "    }\n",
              "\n",
              "    .dataframe thead tr:last-of-type th {\n",
              "        text-align: right;\n",
              "    }\n",
              "</style>\n",
              "<table border=\"1\" class=\"dataframe\">\n",
              "  <thead>\n",
              "    <tr>\n",
              "      <th></th>\n",
              "      <th colspan=\"8\" halign=\"left\">price</th>\n",
              "    </tr>\n",
              "    <tr>\n",
              "      <th></th>\n",
              "      <th>count</th>\n",
              "      <th>mean</th>\n",
              "      <th>std</th>\n",
              "      <th>min</th>\n",
              "      <th>25%</th>\n",
              "      <th>50%</th>\n",
              "      <th>75%</th>\n",
              "      <th>max</th>\n",
              "    </tr>\n",
              "    <tr>\n",
              "      <th>rating</th>\n",
              "      <th></th>\n",
              "      <th></th>\n",
              "      <th></th>\n",
              "      <th></th>\n",
              "      <th></th>\n",
              "      <th></th>\n",
              "      <th></th>\n",
              "      <th></th>\n",
              "    </tr>\n",
              "  </thead>\n",
              "  <tbody>\n",
              "    <tr>\n",
              "      <th>1</th>\n",
              "      <td>6.0</td>\n",
              "      <td>40.018333</td>\n",
              "      <td>14.178174</td>\n",
              "      <td>22.65</td>\n",
              "      <td>27.3075</td>\n",
              "      <td>43.845</td>\n",
              "      <td>51.6375</td>\n",
              "      <td>53.74</td>\n",
              "    </tr>\n",
              "    <tr>\n",
              "      <th>2</th>\n",
              "      <td>3.0</td>\n",
              "      <td>36.830000</td>\n",
              "      <td>20.018382</td>\n",
              "      <td>13.99</td>\n",
              "      <td>29.5800</td>\n",
              "      <td>45.170</td>\n",
              "      <td>48.2500</td>\n",
              "      <td>51.33</td>\n",
              "    </tr>\n",
              "    <tr>\n",
              "      <th>3</th>\n",
              "      <td>3.0</td>\n",
              "      <td>42.316667</td>\n",
              "      <td>21.296472</td>\n",
              "      <td>17.93</td>\n",
              "      <td>34.8500</td>\n",
              "      <td>51.770</td>\n",
              "      <td>54.5100</td>\n",
              "      <td>57.25</td>\n",
              "    </tr>\n",
              "    <tr>\n",
              "      <th>4</th>\n",
              "      <td>4.0</td>\n",
              "      <td>31.105000</td>\n",
              "      <td>12.460865</td>\n",
              "      <td>20.66</td>\n",
              "      <td>22.1150</td>\n",
              "      <td>27.970</td>\n",
              "      <td>36.9600</td>\n",
              "      <td>47.82</td>\n",
              "    </tr>\n",
              "    <tr>\n",
              "      <th>5</th>\n",
              "      <td>4.0</td>\n",
              "      <td>39.750000</td>\n",
              "      <td>17.186613</td>\n",
              "      <td>17.46</td>\n",
              "      <td>30.6300</td>\n",
              "      <td>43.655</td>\n",
              "      <td>52.7750</td>\n",
              "      <td>54.23</td>\n",
              "    </tr>\n",
              "  </tbody>\n",
              "</table>\n",
              "</div>\n",
              "    <div class=\"colab-df-buttons\">\n",
              "\n",
              "  <div class=\"colab-df-container\">\n",
              "    <button class=\"colab-df-convert\" onclick=\"convertToInteractive('df-7a116ff8-eec4-4fd7-a38e-dfdd17c10351')\"\n",
              "            title=\"Convert this dataframe to an interactive table.\"\n",
              "            style=\"display:none;\">\n",
              "\n",
              "  <svg xmlns=\"http://www.w3.org/2000/svg\" height=\"24px\" viewBox=\"0 -960 960 960\">\n",
              "    <path d=\"M120-120v-720h720v720H120Zm60-500h600v-160H180v160Zm220 220h160v-160H400v160Zm0 220h160v-160H400v160ZM180-400h160v-160H180v160Zm440 0h160v-160H620v160ZM180-180h160v-160H180v160Zm440 0h160v-160H620v160Z\"/>\n",
              "  </svg>\n",
              "    </button>\n",
              "\n",
              "  <style>\n",
              "    .colab-df-container {\n",
              "      display:flex;\n",
              "      gap: 12px;\n",
              "    }\n",
              "\n",
              "    .colab-df-convert {\n",
              "      background-color: #E8F0FE;\n",
              "      border: none;\n",
              "      border-radius: 50%;\n",
              "      cursor: pointer;\n",
              "      display: none;\n",
              "      fill: #1967D2;\n",
              "      height: 32px;\n",
              "      padding: 0 0 0 0;\n",
              "      width: 32px;\n",
              "    }\n",
              "\n",
              "    .colab-df-convert:hover {\n",
              "      background-color: #E2EBFA;\n",
              "      box-shadow: 0px 1px 2px rgba(60, 64, 67, 0.3), 0px 1px 3px 1px rgba(60, 64, 67, 0.15);\n",
              "      fill: #174EA6;\n",
              "    }\n",
              "\n",
              "    .colab-df-buttons div {\n",
              "      margin-bottom: 4px;\n",
              "    }\n",
              "\n",
              "    [theme=dark] .colab-df-convert {\n",
              "      background-color: #3B4455;\n",
              "      fill: #D2E3FC;\n",
              "    }\n",
              "\n",
              "    [theme=dark] .colab-df-convert:hover {\n",
              "      background-color: #434B5C;\n",
              "      box-shadow: 0px 1px 3px 1px rgba(0, 0, 0, 0.15);\n",
              "      filter: drop-shadow(0px 1px 2px rgba(0, 0, 0, 0.3));\n",
              "      fill: #FFFFFF;\n",
              "    }\n",
              "  </style>\n",
              "\n",
              "    <script>\n",
              "      const buttonEl =\n",
              "        document.querySelector('#df-7a116ff8-eec4-4fd7-a38e-dfdd17c10351 button.colab-df-convert');\n",
              "      buttonEl.style.display =\n",
              "        google.colab.kernel.accessAllowed ? 'block' : 'none';\n",
              "\n",
              "      async function convertToInteractive(key) {\n",
              "        const element = document.querySelector('#df-7a116ff8-eec4-4fd7-a38e-dfdd17c10351');\n",
              "        const dataTable =\n",
              "          await google.colab.kernel.invokeFunction('convertToInteractive',\n",
              "                                                    [key], {});\n",
              "        if (!dataTable) return;\n",
              "\n",
              "        const docLinkHtml = 'Like what you see? Visit the ' +\n",
              "          '<a target=\"_blank\" href=https://colab.research.google.com/notebooks/data_table.ipynb>data table notebook</a>'\n",
              "          + ' to learn more about interactive tables.';\n",
              "        element.innerHTML = '';\n",
              "        dataTable['output_type'] = 'display_data';\n",
              "        await google.colab.output.renderOutput(dataTable, element);\n",
              "        const docLink = document.createElement('div');\n",
              "        docLink.innerHTML = docLinkHtml;\n",
              "        element.appendChild(docLink);\n",
              "      }\n",
              "    </script>\n",
              "  </div>\n",
              "\n",
              "\n",
              "    <div id=\"df-45e4a26b-bef8-4e84-b43d-1ca14a5101ab\">\n",
              "      <button class=\"colab-df-quickchart\" onclick=\"quickchart('df-45e4a26b-bef8-4e84-b43d-1ca14a5101ab')\"\n",
              "                title=\"Suggest charts\"\n",
              "                style=\"display:none;\">\n",
              "\n",
              "<svg xmlns=\"http://www.w3.org/2000/svg\" height=\"24px\"viewBox=\"0 0 24 24\"\n",
              "     width=\"24px\">\n",
              "    <g>\n",
              "        <path d=\"M19 3H5c-1.1 0-2 .9-2 2v14c0 1.1.9 2 2 2h14c1.1 0 2-.9 2-2V5c0-1.1-.9-2-2-2zM9 17H7v-7h2v7zm4 0h-2V7h2v10zm4 0h-2v-4h2v4z\"/>\n",
              "    </g>\n",
              "</svg>\n",
              "      </button>\n",
              "\n",
              "<style>\n",
              "  .colab-df-quickchart {\n",
              "      --bg-color: #E8F0FE;\n",
              "      --fill-color: #1967D2;\n",
              "      --hover-bg-color: #E2EBFA;\n",
              "      --hover-fill-color: #174EA6;\n",
              "      --disabled-fill-color: #AAA;\n",
              "      --disabled-bg-color: #DDD;\n",
              "  }\n",
              "\n",
              "  [theme=dark] .colab-df-quickchart {\n",
              "      --bg-color: #3B4455;\n",
              "      --fill-color: #D2E3FC;\n",
              "      --hover-bg-color: #434B5C;\n",
              "      --hover-fill-color: #FFFFFF;\n",
              "      --disabled-bg-color: #3B4455;\n",
              "      --disabled-fill-color: #666;\n",
              "  }\n",
              "\n",
              "  .colab-df-quickchart {\n",
              "    background-color: var(--bg-color);\n",
              "    border: none;\n",
              "    border-radius: 50%;\n",
              "    cursor: pointer;\n",
              "    display: none;\n",
              "    fill: var(--fill-color);\n",
              "    height: 32px;\n",
              "    padding: 0;\n",
              "    width: 32px;\n",
              "  }\n",
              "\n",
              "  .colab-df-quickchart:hover {\n",
              "    background-color: var(--hover-bg-color);\n",
              "    box-shadow: 0 1px 2px rgba(60, 64, 67, 0.3), 0 1px 3px 1px rgba(60, 64, 67, 0.15);\n",
              "    fill: var(--button-hover-fill-color);\n",
              "  }\n",
              "\n",
              "  .colab-df-quickchart-complete:disabled,\n",
              "  .colab-df-quickchart-complete:disabled:hover {\n",
              "    background-color: var(--disabled-bg-color);\n",
              "    fill: var(--disabled-fill-color);\n",
              "    box-shadow: none;\n",
              "  }\n",
              "\n",
              "  .colab-df-spinner {\n",
              "    border: 2px solid var(--fill-color);\n",
              "    border-color: transparent;\n",
              "    border-bottom-color: var(--fill-color);\n",
              "    animation:\n",
              "      spin 1s steps(1) infinite;\n",
              "  }\n",
              "\n",
              "  @keyframes spin {\n",
              "    0% {\n",
              "      border-color: transparent;\n",
              "      border-bottom-color: var(--fill-color);\n",
              "      border-left-color: var(--fill-color);\n",
              "    }\n",
              "    20% {\n",
              "      border-color: transparent;\n",
              "      border-left-color: var(--fill-color);\n",
              "      border-top-color: var(--fill-color);\n",
              "    }\n",
              "    30% {\n",
              "      border-color: transparent;\n",
              "      border-left-color: var(--fill-color);\n",
              "      border-top-color: var(--fill-color);\n",
              "      border-right-color: var(--fill-color);\n",
              "    }\n",
              "    40% {\n",
              "      border-color: transparent;\n",
              "      border-right-color: var(--fill-color);\n",
              "      border-top-color: var(--fill-color);\n",
              "    }\n",
              "    60% {\n",
              "      border-color: transparent;\n",
              "      border-right-color: var(--fill-color);\n",
              "    }\n",
              "    80% {\n",
              "      border-color: transparent;\n",
              "      border-right-color: var(--fill-color);\n",
              "      border-bottom-color: var(--fill-color);\n",
              "    }\n",
              "    90% {\n",
              "      border-color: transparent;\n",
              "      border-bottom-color: var(--fill-color);\n",
              "    }\n",
              "  }\n",
              "</style>\n",
              "\n",
              "      <script>\n",
              "        async function quickchart(key) {\n",
              "          const quickchartButtonEl =\n",
              "            document.querySelector('#' + key + ' button');\n",
              "          quickchartButtonEl.disabled = true;  // To prevent multiple clicks.\n",
              "          quickchartButtonEl.classList.add('colab-df-spinner');\n",
              "          try {\n",
              "            const charts = await google.colab.kernel.invokeFunction(\n",
              "                'suggestCharts', [key], {});\n",
              "          } catch (error) {\n",
              "            console.error('Error during call to suggestCharts:', error);\n",
              "          }\n",
              "          quickchartButtonEl.classList.remove('colab-df-spinner');\n",
              "          quickchartButtonEl.classList.add('colab-df-quickchart-complete');\n",
              "        }\n",
              "        (() => {\n",
              "          let quickchartButtonEl =\n",
              "            document.querySelector('#df-45e4a26b-bef8-4e84-b43d-1ca14a5101ab button');\n",
              "          quickchartButtonEl.style.display =\n",
              "            google.colab.kernel.accessAllowed ? 'block' : 'none';\n",
              "        })();\n",
              "      </script>\n",
              "    </div>\n",
              "    </div>\n",
              "  </div>\n"
            ],
            "application/vnd.google.colaboratory.intrinsic+json": {
              "type": "dataframe",
              "summary": "{\n  \"name\": \"compute_descriptive_stats_for_price_per_rating(df)\",\n  \"rows\": 5,\n  \"fields\": [\n    {\n      \"column\": [\n        \"rating\",\n        \"\"\n      ],\n      \"properties\": {\n        \"dtype\": \"number\",\n        \"std\": 1,\n        \"min\": 1,\n        \"max\": 5,\n        \"num_unique_values\": 5,\n        \"samples\": [\n          2,\n          5,\n          3\n        ],\n        \"semantic_type\": \"\",\n        \"description\": \"\"\n      }\n    },\n    {\n      \"column\": [\n        \"price\",\n        \"count\"\n      ],\n      \"properties\": {\n        \"dtype\": \"number\",\n        \"std\": 1.224744871391589,\n        \"min\": 3.0,\n        \"max\": 6.0,\n        \"num_unique_values\": 3,\n        \"samples\": [\n          6.0,\n          3.0,\n          4.0\n        ],\n        \"semantic_type\": \"\",\n        \"description\": \"\"\n      }\n    },\n    {\n      \"column\": [\n        \"price\",\n        \"mean\"\n      ],\n      \"properties\": {\n        \"dtype\": \"number\",\n        \"std\": 4.320868707666192,\n        \"min\": 31.104999999999997,\n        \"max\": 42.31666666666667,\n        \"num_unique_values\": 5,\n        \"samples\": [\n          36.83,\n          39.75,\n          42.31666666666667\n        ],\n        \"semantic_type\": \"\",\n        \"description\": \"\"\n      }\n    },\n    {\n      \"column\": [\n        \"price\",\n        \"std\"\n      ],\n      \"properties\": {\n        \"dtype\": \"number\",\n        \"std\": 3.7472530845238925,\n        \"min\": 12.460865406008793,\n        \"max\": 21.296472321333724,\n        \"num_unique_values\": 5,\n        \"samples\": [\n          20.018381552962765,\n          17.186613007415584,\n          21.296472321333724\n        ],\n        \"semantic_type\": \"\",\n        \"description\": \"\"\n      }\n    },\n    {\n      \"column\": [\n        \"price\",\n        \"min\"\n      ],\n      \"properties\": {\n        \"dtype\": \"number\",\n        \"std\": 3.3025550714560383,\n        \"min\": 13.99,\n        \"max\": 22.65,\n        \"num_unique_values\": 5,\n        \"samples\": [\n          13.99,\n          17.46,\n          17.93\n        ],\n        \"semantic_type\": \"\",\n        \"description\": \"\"\n      }\n    },\n    {\n      \"column\": [\n        \"price\",\n        \"25%\"\n      ],\n      \"properties\": {\n        \"dtype\": \"number\",\n        \"std\": 4.67520106519495,\n        \"min\": 22.115000000000002,\n        \"max\": 34.85,\n        \"num_unique_values\": 5,\n        \"samples\": [\n          29.580000000000002,\n          30.630000000000003,\n          34.85\n        ],\n        \"semantic_type\": \"\",\n        \"description\": \"\"\n      }\n    },\n    {\n      \"column\": [\n        \"price\",\n        \"50%\"\n      ],\n      \"properties\": {\n        \"dtype\": \"number\",\n        \"std\": 8.765331282957877,\n        \"min\": 27.970000000000002,\n        \"max\": 51.77,\n        \"num_unique_values\": 5,\n        \"samples\": [\n          45.17,\n          43.655,\n          51.77\n        ],\n        \"semantic_type\": \"\",\n        \"description\": \"\"\n      }\n    },\n    {\n      \"column\": [\n        \"price\",\n        \"75%\"\n      ],\n      \"properties\": {\n        \"dtype\": \"number\",\n        \"std\": 7.016778463084039,\n        \"min\": 36.96,\n        \"max\": 54.510000000000005,\n        \"num_unique_values\": 5,\n        \"samples\": [\n          48.25,\n          52.775,\n          54.510000000000005\n        ],\n        \"semantic_type\": \"\",\n        \"description\": \"\"\n      }\n    },\n    {\n      \"column\": [\n        \"price\",\n        \"max\"\n      ],\n      \"properties\": {\n        \"dtype\": \"number\",\n        \"std\": 3.52366712389238,\n        \"min\": 47.82,\n        \"max\": 57.25,\n        \"num_unique_values\": 5,\n        \"samples\": [\n          51.33,\n          54.23,\n          57.25\n        ],\n        \"semantic_type\": \"\",\n        \"description\": \"\"\n      }\n    }\n  ]\n}"
            }
          },
          "metadata": {},
          "execution_count": 86
        }
      ],
      "source": [
        "compute_descriptive_stats_for_price_per_rating(df)"
      ]
    },
    {
      "cell_type": "markdown",
      "source": [],
      "metadata": {
        "id": "XFEq0GOMtbdX"
      },
      "id": "XFEq0GOMtbdX"
    }
  ],
  "metadata": {
    "kernelspec": {
      "display_name": ".venv",
      "language": "python",
      "name": "python3"
    },
    "language_info": {
      "codemirror_mode": {
        "name": "ipython",
        "version": 3
      },
      "file_extension": ".py",
      "mimetype": "text/x-python",
      "name": "python",
      "nbconvert_exporter": "python",
      "pygments_lexer": "ipython3",
      "version": "3.12.0"
    },
    "colab": {
      "provenance": []
    }
  },
  "nbformat": 4,
  "nbformat_minor": 5
}